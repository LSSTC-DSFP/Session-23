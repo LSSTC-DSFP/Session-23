{
 "cells": [
  {
   "cell_type": "markdown",
   "id": "76cddb45",
   "metadata": {},
   "source": [
    "# Introduction to Probability - Problems\n",
    "\n",
    "### In this notebook, we'll work through some classic probability problems. Some will be \"easiest\" to implement in python, while others are best done with pen & paper."
   ]
  },
  {
   "cell_type": "code",
   "execution_count": 69,
   "id": "4d97ddcb-ca9a-4bd3-bd54-b6ccbfea991f",
   "metadata": {},
   "outputs": [],
   "source": [
    "import numpy as np\n",
    "import matplotlib.pyplot as plt\n",
    "from scipy.stats import norm"
   ]
  },
  {
   "cell_type": "markdown",
   "id": "978d7eb3",
   "metadata": {},
   "source": [
    "### Problem 1: The Birthday Problem\n",
    "\n",
    "A classic calculation is to calculate the probability that two people in today's DSFP session share the same birthday. You can approximate the number of people in the room as n=40 (~35 students, ~3 guest instructions, 1 slightly overwhelmed postdoc, and 1 Northwestern faculty member)."
   ]
  },
  {
   "cell_type": "markdown",
   "id": "bc425741",
   "metadata": {},
   "source": [
    "### Problem 1a: Is it easier to calculate this probability directly or by some other method? Discuss with those around you. \n",
    "A: Not really sure what this is asking... Maybe indirectly and going backwards? 2 don't is easier"
   ]
  },
  {
   "cell_type": "markdown",
   "id": "b07f2047",
   "metadata": {},
   "source": [
    "### Problem 1b: What is the probability that no two people in the room share the same birthday? "
   ]
  },
  {
   "cell_type": "code",
   "execution_count": null,
   "id": "96fc3271-c318-4fd8-b9f0-19021e3d2d2a",
   "metadata": {},
   "outputs": [],
   "source": [
    "1 - 1/365 1 - 2/365 ...\n"
   ]
  },
  {
   "cell_type": "markdown",
   "id": "67e501e8-267f-4572-8136-78413ed01f4e",
   "metadata": {},
   "source": [
    "### Problem 1c: Using your answer to 1b, plot the probability of two people sharing the same birthday as a function of the number of people in the room. At what value of n does the probability exceed 50%? Is this result surprising to you?\n",
    "\n",
    "Hint: you may need the approximation that $(1 + x) \\approx e^x$ for |x|<<1."
   ]
  },
  {
   "cell_type": "code",
   "execution_count": null,
   "id": "22409a3b-8277-4654-acda-76a1584719b1",
   "metadata": {},
   "outputs": [],
   "source": []
  },
  {
   "cell_type": "markdown",
   "id": "61f6913f-389e-4ce7-b790-d3e949ff269d",
   "metadata": {},
   "source": [
    "### Bonus Problem (to be completed in the lunch break): Find at least two DSFP attendees who share the same birthday. "
   ]
  },
  {
   "cell_type": "code",
   "execution_count": null,
   "id": "eac9a939-7ff8-4e55-b8c7-17e9193e1441",
   "metadata": {},
   "outputs": [],
   "source": []
  },
  {
   "cell_type": "markdown",
   "id": "ce9ffe15",
   "metadata": {},
   "source": [
    "### [Pen & Paper] Problem 2: The Monty Hall Problem\n",
    "\n",
    "Another classic problem comes from the Monty Hall gameshow. On this game show, contestants are first asked to pick between several doors. Behind one of the doors is a large prize (a car, dream vacation, etc.) while the contestant goes home empty handed if they pick either of the other doors. The gameshow host then opens one of the doors that does not contain the prize. \n",
    "\n",
    "Now the clever bit. The contestant is then asked if they want to change their original choice of door for the other closed door. Your task is to make this choice for them. Assume for this problem that the context picks a door labelled n=1 and that the prize is contained behind door n=k. \n",
    "\n",
    "### Problem 2a) Getting started: applying the Principle of Indifference\n",
    "\n",
    "Before any doors are open, what is the conditional probability that the nth door contains a prize? \n",
    "\n",
    "\n",
    "\n",
    "### Problem 2b) Conditioning on data\n",
    "\n",
    "Use the Bayes rule to write down the probability that the prize is behind the first door given observed doors $\\{d_k\\}$, k < n do not contain the prize. \n",
    "\n",
    "\n",
    "Then write down the probability that the kth door remains unopened given that $H_1$ is true.\n",
    "\n",
    "\n",
    "\n",
    "### Problem 2c) Law of total probability \n",
    "\n",
    "Use the law of total probability to write down an expression for the probability of observing $\\{d_k\\}$ open doors (w/o) prizes.\n",
    "\n",
    "\n",
    "### Problem 2d) The key idea\n",
    "\n",
    "Write down the probability that the kth door stays unopened given that H_i = the hypothesis that the ith door contains the prize remains unopened. \n",
    "\n",
    "\n",
    "\n",
    "### Problem 2e) Should the contestant switch doors?\n",
    "\n",
    "Combine your answer to 2b) and 2d) to give the probability that the prize is behind the first door. Then use the axioms of probability theory to compute the probability that the prize is behind the final (kth) door. Should the person switch?"
   ]
  },
  {
   "cell_type": "markdown",
   "id": "8a5c6c3c",
   "metadata": {},
   "source": [
    "### Problem 3: Boolean Logic\n",
    "\n",
    "An alternative interpretation of probability theory is that it represents an extension of classical logic to possibilities or plausibilities. In this sense, probability theory is a new kind of logic, and not statements about long run frequencies of events. In this problem, you'll explore the boolean logic that forms the basis for this perspective. While interesting for the development of probability theory, these are also useful skills for general programming tasks. \n",
    "\n",
    "We define the logical product and denote it by the symbol AB, which means that both propositions A and B are true. \n",
    "\n",
    "We define the logical sum and denote it by the symbol A + B, which means that at least one of the proopsitions A, or B is true. A + B = B + A. \n",
    "\n",
    "### Problem 3a) Generate two arrays, A and B, with randomly distributed numbers."
   ]
  },
  {
   "cell_type": "code",
   "execution_count": 4,
   "id": "48acabe8-1ee2-4118-a3c1-a5675fefbf2e",
   "metadata": {},
   "outputs": [],
   "source": [
    "A = np.array(np.random.rand(20))\n",
    "B = np.array(np.random.rand(20))"
   ]
  },
  {
   "cell_type": "code",
   "execution_count": 31,
   "id": "7bb00863-6ff9-48ae-9624-ac77ef9b864e",
   "metadata": {},
   "outputs": [
    {
     "data": {
      "text/plain": [
       "array([6.99186484e-01, 6.51308211e-01, 3.45329555e-01, 5.84564926e-01,\n",
       "       4.20029154e-01, 4.14425426e-01, 3.84649790e-02, 4.47255203e-01,\n",
       "       9.23880185e-05, 9.22907366e-01, 2.48562117e-01, 4.22363026e-01,\n",
       "       7.45234488e-01, 2.69513607e-01, 6.27250679e-01, 4.97237808e-01,\n",
       "       9.00637499e-01, 3.35694204e-01, 2.07602752e-01, 7.63130654e-01])"
      ]
     },
     "execution_count": 31,
     "metadata": {},
     "output_type": "execute_result"
    }
   ],
   "source": [
    "A"
   ]
  },
  {
   "cell_type": "code",
   "execution_count": 32,
   "id": "fe263fea-0d2a-44e2-beb7-6e2695662fba",
   "metadata": {},
   "outputs": [
    {
     "data": {
      "text/plain": [
       "array([0.93103047, 0.22645864, 0.67377987, 0.54992814, 0.29507908,\n",
       "       0.47214467, 0.14473549, 0.8348813 , 0.25451902, 0.20257073,\n",
       "       0.03586588, 0.91708711, 0.81348134, 0.23157396, 0.54637083,\n",
       "       0.60284677, 0.13656113, 0.74168566, 0.56724279, 0.02406764])"
      ]
     },
     "execution_count": 32,
     "metadata": {},
     "output_type": "execute_result"
    }
   ],
   "source": [
    "B"
   ]
  },
  {
   "cell_type": "markdown",
   "id": "33b08850-9a51-4dc8-a5de-320d1fda37fc",
   "metadata": {},
   "source": [
    "### Problem 3b) Create two arrays, one consisting of booleans when the value of the A array and B array are > 0.5 "
   ]
  },
  {
   "cell_type": "code",
   "execution_count": 9,
   "id": "ab3f28e1-f5a9-4aaa-86d5-ea86e50ef306",
   "metadata": {},
   "outputs": [],
   "source": [
    "A_bool = A>0.5\n",
    "B_bool = B>0.5"
   ]
  },
  {
   "cell_type": "code",
   "execution_count": 17,
   "id": "c9b44149-dad2-4f2f-a483-4eeb65d1c6fe",
   "metadata": {},
   "outputs": [
    {
     "data": {
      "text/plain": [
       "array([ True,  True, False,  True, False, False, False, False, False,\n",
       "        True, False, False,  True, False,  True, False,  True, False,\n",
       "       False,  True])"
      ]
     },
     "execution_count": 17,
     "metadata": {},
     "output_type": "execute_result"
    }
   ],
   "source": [
    "A_bool"
   ]
  },
  {
   "cell_type": "code",
   "execution_count": 18,
   "id": "a0325a6e-253b-4ece-8617-5d1ead2e6e36",
   "metadata": {},
   "outputs": [
    {
     "data": {
      "text/plain": [
       "array([ True, False,  True,  True, False, False, False,  True, False,\n",
       "       False, False,  True,  True, False,  True,  True, False,  True,\n",
       "        True, False])"
      ]
     },
     "execution_count": 18,
     "metadata": {},
     "output_type": "execute_result"
    }
   ],
   "source": [
    "B_bool"
   ]
  },
  {
   "cell_type": "markdown",
   "id": "d24677bc-0bc1-4236-a7f6-dc8f1af3e51d",
   "metadata": {},
   "source": [
    "### Problem 3c) Use the arrays from 3b) to create an array consisting only of the values in A where both A and B are greater than 0.5"
   ]
  },
  {
   "cell_type": "code",
   "execution_count": 34,
   "id": "cd93e805-fad2-42b5-8438-7f426116033f",
   "metadata": {
    "scrolled": true
   },
   "outputs": [],
   "source": [
    "# mask for both\n",
    "AB = A_bool * B_bool"
   ]
  },
  {
   "cell_type": "code",
   "execution_count": 36,
   "id": "58ae7326-7e12-405d-9899-050c8ca1e023",
   "metadata": {},
   "outputs": [
    {
     "name": "stdout",
     "output_type": "stream",
     "text": [
      "[0.69918648 0.58456493 0.74523449 0.62725068]\n"
     ]
    }
   ],
   "source": [
    "# use the mask\n",
    "Avals_both = A[AB]\n",
    "print(Avals_both)"
   ]
  },
  {
   "cell_type": "markdown",
   "id": "ddca926c-41bc-466b-a9c3-d5d2d491f2cb",
   "metadata": {},
   "source": [
    "### Problem 3d) Do the same, except for where either A or B are greater than 0.5. "
   ]
  },
  {
   "cell_type": "code",
   "execution_count": 37,
   "id": "c4b36da4-a823-473d-bef5-6c795f32bd59",
   "metadata": {},
   "outputs": [
    {
     "name": "stdout",
     "output_type": "stream",
     "text": [
      "[0.69918648 0.65130821 0.34532955 0.58456493 0.4472552  0.92290737\n",
      " 0.42236303 0.74523449 0.62725068 0.49723781 0.9006375  0.3356942\n",
      " 0.20760275 0.76313065]\n"
     ]
    }
   ],
   "source": [
    "# mask for either\n",
    "AB = A_bool + B_bool\n",
    "Avals_either = A[AB]\n",
    "print(Avals_either)"
   ]
  },
  {
   "cell_type": "markdown",
   "id": "743b4a42",
   "metadata": {},
   "source": [
    "## Problem 4: Probability Transformations in Astronomy\n",
    "\n",
    "This example comes from the AstroML book, and is a famous example of where a common transformation in astronomy does not preserve all of the properties of the underlying distribution. \n",
    "\n",
    "### Problem 4a) Generate some underlying normally distributed flux data\n",
    "\n",
    "Hint: you can do this most easily with scipy.stats.norm(), norm.rvs. Your life in 4d) will be slightly easier if you generate an odd number of samples."
   ]
  },
  {
   "cell_type": "code",
   "execution_count": 76,
   "id": "38ccdca7-77d8-4489-a4fa-0e3c2f458622",
   "metadata": {},
   "outputs": [],
   "source": [
    "F = norm.rvs(loc=5, scale=1, size=25, random_state=None)"
   ]
  },
  {
   "cell_type": "code",
   "execution_count": 77,
   "id": "53e07f91-6565-4b73-a4f1-d55cdd8e8370",
   "metadata": {},
   "outputs": [
    {
     "data": {
      "text/plain": [
       "array([5.38772592, 4.40484251, 5.38363382, 4.48973902, 5.64077081,\n",
       "       3.53701938, 4.78484123, 5.30951939, 4.00945738, 4.7547869 ,\n",
       "       4.85080287, 2.75189872, 4.29129244, 5.48645967, 2.97075881,\n",
       "       6.94713893, 5.74904721, 5.6741262 , 3.56849439, 4.9277552 ,\n",
       "       3.58299395, 5.23427428, 6.04137986, 4.12377126, 6.31705532])"
      ]
     },
     "execution_count": 77,
     "metadata": {},
     "output_type": "execute_result"
    }
   ],
   "source": [
    "F"
   ]
  },
  {
   "cell_type": "markdown",
   "id": "6b75b05d-e769-49d7-9e7c-bcd3b01788b1",
   "metadata": {},
   "source": [
    "### Problem 4b) Transform fluxes to magnitudes\n",
    "\n",
    "The magnitude of a source is defined as mag $= -2.5 \\log_{10}(F)$. transform your normally distributed flux data to magnitudes. "
   ]
  },
  {
   "cell_type": "code",
   "execution_count": 78,
   "id": "78e61322-2aac-42dd-bc04-1c744b2968ad",
   "metadata": {},
   "outputs": [],
   "source": [
    "mag = -2.5 * np.log10(F)"
   ]
  },
  {
   "cell_type": "code",
   "execution_count": 79,
   "id": "970212ac-1be0-4876-bb2f-9f1ed9641feb",
   "metadata": {},
   "outputs": [
    {
     "data": {
      "text/plain": [
       "array([-1.82851374, -1.60982596, -1.82768878, -1.63055274, -1.87834614,\n",
       "       -1.3715936 , -1.69966883, -1.81263803, -1.507714  , -1.69282764,\n",
       "       -1.71453406, -1.09908111, -1.58147028, -1.84823048, -1.18216848,\n",
       "       -2.10451496, -1.89898969, -1.88474748, -1.38121254, -1.73162281,\n",
       "       -1.38561519, -1.79714119, -1.95284036, -1.53823642, -2.0012867 ])"
      ]
     },
     "execution_count": 79,
     "metadata": {},
     "output_type": "execute_result"
    }
   ],
   "source": [
    "mag"
   ]
  },
  {
   "cell_type": "markdown",
   "id": "fa811b32-64da-4428-91b5-16e67c2c1945",
   "metadata": {},
   "source": [
    "### Problem 4c) Plot your results\n",
    "\n",
    "Plot the flux and magnitude distribution. How has the transformation changed the shape of the distribution?"
   ]
  },
  {
   "cell_type": "code",
   "execution_count": 80,
   "id": "2eb9ec1c-0f0b-4084-a263-9813f6bf2ba2",
   "metadata": {},
   "outputs": [
    {
     "data": {
      "image/png": "[encoded data removed]",
      "text/plain": [
       "<Figure size 640x480 with 1 Axes>"
      ]
     },
     "metadata": {},
     "output_type": "display_data"
    }
   ],
   "source": [
    "plt.hist(F, density=True, label = \"flux\")\n",
    "plt.hist(mag, density=True, label = \"mag\")\n",
    "plt.legend();"
   ]
  },
  {
   "cell_type": "markdown",
   "id": "188d7926-696b-4254-bf0b-45477858572b",
   "metadata": {},
   "source": [
    "### Problem 4d) Cumulative Distribution Function\n",
    "\n",
    "Plot the CDF of each distribution and discuss the properties of the CDF. Then compute the 25th, 50th, and 75th percentiles of both distributions and determine what data point each maps to. The CDF, median, and percentiles form the basis for many statistical tests of distribution similarity."
   ]
  },
  {
   "cell_type": "code",
   "execution_count": 81,
   "id": "c470eda0-10d6-4564-99f6-a6df377b6f02",
   "metadata": {},
   "outputs": [
    {
     "data": {
      "text/plain": [
       "[<matplotlib.lines.Line2D at 0x17799c730>]"
      ]
     },
     "execution_count": 81,
     "metadata": {},
     "output_type": "execute_result"
    },
    {
     "data": {
      "image/png": "[encoded data removed]",
      "text/plain": [
       "<Figure size 640x480 with 1 Axes>"
      ]
     },
     "metadata": {},
     "output_type": "display_data"
    }
   ],
   "source": [
    "F_cdf = ss.norm.cdf(F)\n",
    "plt.plot(F_cdf);"
   ]
  },
  {
   "cell_type": "markdown",
   "id": "e5fe09e1",
   "metadata": {},
   "source": [
    "### Challenge Problem: From where does randomness come from?"
   ]
  },
  {
   "cell_type": "markdown",
   "id": "349416df",
   "metadata": {},
   "source": [
    "As astronomers, we know that there are two exclusively correct theories of nature. Classical mechanics and general relativity and no others. Given that both of these theories are deterministic, from where does randomnness come from? \n",
    "\n",
    "One way that people have approached this question is by positing that randomness (or probability) are empirical facts - something we see in the behaivor of a rolled die or a flipped coin. In fact, if we flip a coin a large number of times, it does approach a 1/2 H 1/2 T distribution. \n",
    "\n",
    "This has never quite made sense to me. We assume that both outcomes are equally likely based on the principle of indifference. But a coin is not in an indifferent starting state - one side is typically face up before you flip it. How can we explain the equally likely outcomes?\n",
    "\n",
    "Start by writing down the equations of motion for the coin as it moves through the air (and rotates). Once you have done that, plot the 'pre-image' (space of initial conditions) that lead to H and T outcomes. Explain why coins have a 1/2 H and 1/2 T long-run distribution and speculate on the origin of randomness. "
   ]
  }
 ],
 "metadata": {
  "kernelspec": {
   "display_name": "Python 3 (ipykernel)",
   "language": "python",
   "name": "python3"
  },
  "language_info": {
   "codemirror_mode": {
    "name": "ipython",
    "version": 3
   },
   "file_extension": ".py",
   "mimetype": "text/x-python",
   "name": "python",
   "nbconvert_exporter": "python",
   "pygments_lexer": "ipython3",
   "version": "3.8.20"
  }
 },
 "nbformat": 4,
 "nbformat_minor": 5
}
