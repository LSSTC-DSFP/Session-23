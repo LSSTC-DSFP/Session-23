{
 "cells": [
  {
   "cell_type": "code",
   "execution_count": 1,
   "metadata": {
    "slideshow": {
     "slide_type": "skip"
    }
   },
   "outputs": [],
   "source": [
    "import numpy as np\n",
    "import pandas as pd\n",
    "\n",
    "import matplotlib.pyplot as plt"
   ]
  },
  {
   "cell_type": "code",
   "execution_count": 2,
   "metadata": {
    "slideshow": {
     "slide_type": "skip"
    }
   },
   "outputs": [],
   "source": [
    "# %matplotlib notebook\n",
    "%matplotlib ipympl"
   ]
  },
  {
   "cell_type": "markdown",
   "metadata": {
    "editable": true,
    "slideshow": {
     "slide_type": "slide"
    },
    "tags": []
   },
   "source": [
    "# Construction Zone: Building a Metropolis-Hastings Sampler From Scratch\n",
    "\n",
    "\n",
    "-----\n",
    "*Version 0.1.1*\n",
    "\n",
    "By AA Miller (Northwestern/CIERA/SkAI)  \n",
    "19 May 2025"
   ]
  },
  {
   "cell_type": "markdown",
   "metadata": {
    "editable": true,
    "slideshow": {
     "slide_type": "slide"
    },
    "tags": []
   },
   "source": [
    "**Notebook summary and learning objectives**\n",
    "\n",
    "We have now learned that parameter inference in the Bayesian context requires a calculation of the posterior. This calculation requires a (difficult) multi-dimensional integral that typically cannot be solved analytically. Thus, we normally use [Markov Chain Monte Carlo](https://en.wikipedia.org/wiki/Markov_chain_Monte_Carlo) (MCMC) methods to approximate the (numerator) of the posterior. In this notebook you will build a [Metropolic Hastings](https://en.wikipedia.org/wiki/Metropolis–Hastings_algorithm) MCMC sampler in pure python.\n",
    "\n",
    "\n",
    "In this notebook you will learn to:  \n",
    "$~~~~~~~~$(1) calculate the likelihood for a specified model and experimental observations  \n",
    "$~~~~~~~~$(2) calculate the posterior  \n",
    "$~~~~~~~~$(3) calculate the Hastings ratio  \n",
    "$~~~~~~~~$(4) build a Metropolis Hastings algorithm from scratch  "
   ]
  },
  {
   "cell_type": "markdown",
   "metadata": {
    "editable": true,
    "slideshow": {
     "slide_type": "slide"
    },
    "tags": []
   },
   "source": [
    "As we just saw, Bayes' Law provides a framework for understanding/inferring model parameters *given* some observations/data:\n",
    "\n",
    "$$P(\\theta\\mid\\mathbf{x}) = \\frac{P(\\mathbf{x}\\mid\\theta)\\;P(\\theta)}{P(\\mathbf{x})},$$\n",
    "\n",
    "where we have used the short-hand notation with $\\theta$ representing the model parameters, and $\\mathbf{x}$ representing the data. "
   ]
  },
  {
   "cell_type": "markdown",
   "metadata": {
    "slideshow": {
     "slide_type": "slide"
    }
   },
   "source": [
    "To redefine some terms,\n",
    "\n",
    "$P(\\mathbf{x}\\mid\\theta)$, the probability of the data given the model parameters, is the *likelihood*, $\\mathcal{L}$.\n",
    "\n",
    "$P(\\theta)$, the probability of the model parameters, is the *prior*.\n",
    "\n",
    "$P(\\mathbf{x})$ the probability of the data, is the *evidence*. (That sounds weird right? More on this in a bit...)\n",
    "\n",
    "Finally, $P(\\theta\\mid\\mathbf{x})$, the probability of the model parameters given the data, is the *posterior*, $\\pi$. "
   ]
  },
  {
   "cell_type": "markdown",
   "metadata": {
    "slideshow": {
     "slide_type": "subslide"
    }
   },
   "source": [
    "We typically want to estimate some model parameters, $\\theta$, and thus we need to integrate the posterior, $P(\\theta\\mid\\mathbf{x})$.\n",
    "\n",
    "This is **hard**."
   ]
  },
  {
   "cell_type": "markdown",
   "metadata": {
    "editable": true,
    "slideshow": {
     "slide_type": "subslide"
    },
    "tags": []
   },
   "source": [
    "In particular, how in the world are we supposed to estimate the *probability of data*?!\n",
    "\n",
    "This is – capital H – **Hard**.\n",
    "\n",
    "(More on this later today)"
   ]
  },
  {
   "cell_type": "markdown",
   "metadata": {
    "editable": true,
    "slideshow": {
     "slide_type": "subslide"
    },
    "tags": []
   },
   "source": [
    "Fortunately, $P(\\mathbf{x})$ simply serves as a normalization term, and, in many applications, can be ignored. \n",
    "\n",
    "Thus, given that the posterior is $\\propto \\mathcal{L}\\;P(\\theta)$, we can maximize the posterior by maximizing the product of the likelihood and the prior. While this still leaves a complicated integral, there are many tools that can approximate that integral rather efficiently..."
   ]
  },
  {
   "cell_type": "markdown",
   "metadata": {
    "slideshow": {
     "slide_type": "subslide"
    }
   },
   "source": [
    "including the Metropolis-Hastings algorithm!"
   ]
  },
  {
   "cell_type": "markdown",
   "metadata": {
    "slideshow": {
     "slide_type": "slide"
    }
   },
   "source": [
    "## Problem 1) Simulate the Observations\n",
    "\n",
    "As we work towards implementing the MH sampler, we will attempt to solve a very common problem in the statistical literature: estimating the slope and intercept of a line from noisy data.\n",
    "\n",
    "Here we will simulate some data with known model parameters so we can later compare our estimates to the correct answer."
   ]
  },
  {
   "cell_type": "markdown",
   "metadata": {
    "slideshow": {
     "slide_type": "slide"
    }
   },
   "source": [
    "**Problem 1a**\n",
    "\n",
    "Draw 40 observations between 0 and 100 from a linear model with slope, $m = 2.3$, and intercept, $b = 15$. Assume that each observation is drawn from a Gaussian distribution with mean $\\mu = 0$ and variance, $\\sigma^2$ = 2500."
   ]
  },
  {
   "cell_type": "code",
   "execution_count": 3,
   "metadata": {
    "editable": true,
    "slideshow": {
     "slide_type": "subslide"
    },
    "tags": []
   },
   "outputs": [],
   "source": [
    "np.random.seed(212)\n",
    "m_true = 2.3\n",
    "b_true = 15\n",
    "x = np.random.uniform(low=0, high=100, size=40)\n",
    "y_true = b_true + m_true*x\n",
    "y_obs = y_true + np.random.normal(0,50,size=40)\n",
    "y_unc = np.ones_like(y_obs)*50"
   ]
  },
  {
   "cell_type": "markdown",
   "metadata": {
    "slideshow": {
     "slide_type": "subslide"
    }
   },
   "source": [
    "**Problem 1b**\n",
    "\n",
    "Plot the observations and the corresponding uncertainties. Overplot a line showing the model from which the data were drawn."
   ]
  },
  {
   "cell_type": "code",
   "execution_count": 4,
   "metadata": {
    "editable": true,
    "slideshow": {
     "slide_type": "subslide"
    },
    "tags": []
   },
   "outputs": [
    {
     "data": {
      "application/vnd.jupyter.widget-view+json": {
       "model_id": "169052036d034118b05ec3be236b6c47",
       "version_major": 2,
       "version_minor": 0
      },
      "image/png": "[encoded data removed]",
      "text/html": [
       "\n",
       "            <div style=\"display: inline-block;\">\n",
       "                <div class=\"jupyter-widgets widget-label\" style=\"text-align: center;\">\n",
       "                    Figure\n",
       "                </div>\n",
       "                <img src='data:image/png;base64,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' width=640.0/>\n",
       "            </div>\n",
       "        "
      ],
      "text/plain": [
       "Canvas(toolbar=Toolbar(toolitems=[('Home', 'Reset original view', 'home', 'home'), ('Back', 'Back to previous …"
      ]
     },
     "metadata": {},
     "output_type": "display_data"
    }
   ],
   "source": [
    "fig, ax = plt.subplots()\n",
    "\n",
    "ax.errorbar(x, y_obs, y_unc, fmt='o')\n",
    "ax.plot([0,100], b_true + m_true*np.array([0,100]))\n",
    "ax.set_xlabel('x')\n",
    "ax.set_ylabel('y')\n",
    "fig.tight_layout()"
   ]
  },
  {
   "cell_type": "markdown",
   "metadata": {
    "slideshow": {
     "slide_type": "slide"
    }
   },
   "source": [
    "**Problem 1c**\n",
    "\n",
    "Create a function `get_model_predictions` that calculates the expected value of $\\mathbf{y}$ given input parameters `theta` and positions $\\mathbf{x}$.\n",
    "\n",
    "*Hint* - store the model parameters in a tuple `theta` = (m, b). This will make life easier later."
   ]
  },
  {
   "cell_type": "code",
   "execution_count": 5,
   "metadata": {
    "slideshow": {
     "slide_type": "subslide"
    }
   },
   "outputs": [],
   "source": [
    "def get_model_predictions(theta, x):\n",
    "    '''\n",
    "    Calculate the model at any position x\n",
    "    \n",
    "    Parameters\n",
    "    ----------\n",
    "    theta : tuple\n",
    "        Model parameters\n",
    "    \n",
    "    x : arr-like, shape (n_samples)\n",
    "        Array of positions where y is measured\n",
    "    \n",
    "    Returns\n",
    "    -------\n",
    "    model_preds : arr-like, shape (n_samples)\n",
    "        Array of model values\n",
    "    '''\n",
    "    m, b = theta\n",
    "    model_preds = m*x + b # complete\n",
    "    \n",
    "    return model_preds"
   ]
  },
  {
   "cell_type": "markdown",
   "metadata": {
    "slideshow": {
     "slide_type": "slide"
    }
   },
   "source": [
    "## Problem 2) The Posterior\n",
    "\n",
    "In order to approximate the posterior we need to be able to calculate it at any point within the multidimensional parameter space. "
   ]
  },
  {
   "cell_type": "markdown",
   "metadata": {
    "editable": true,
    "slideshow": {
     "slide_type": "subslide"
    },
    "tags": []
   },
   "source": [
    "Assuming a Gaussian p.d.f. for the uncertainties, we can describe the probability of any individual observation as a function of the model parameters:\n",
    "\n",
    "$$p(y_i \\mid m, b, x_i, \\sigma_i) = \\frac{1}{\\sqrt{2\\pi\\sigma_{y_i}^2}}\\exp{- \\frac{(y_i - m\\,x_i - b)^2}{2\\sigma_{y_i}^2}},$$\n",
    "\n",
    "where $y_i$ is the $i^\\mathrm{th}$ observation, $x_i$ is the corresponding indpendent position at which $y_i$ is measured, $\\sigma_{y_i}$ is the uncertainty on $y_i$ (constant in this case, but that doesn't have to be the case), and $m$ and $b$ are the slope and intercept for  the line."
   ]
  },
  {
   "cell_type": "markdown",
   "metadata": {
    "editable": true,
    "slideshow": {
     "slide_type": "subslide"
    },
    "tags": []
   },
   "source": [
    "Assuming the observations are independent, then the likelihood of *all* the observations is the product of the individual probabilities:\n",
    "\n",
    "$$\\mathcal{L} = \\prod_i p(y_i \\mid m, b, x_i, \\sigma_i) = \\prod_i \\frac{1}{\\sqrt{2\\pi\\sigma_{y_i}^2}}\\exp{- \\frac{(y_i - m\\,x_i - b)^2}{2\\sigma_{y_i}^2}}.$$"
   ]
  },
  {
   "cell_type": "markdown",
   "metadata": {
    "editable": true,
    "slideshow": {
     "slide_type": "subslide"
    },
    "tags": []
   },
   "source": [
    "As we saw yesterday it is preferable to work with the $\\log \\mathcal{L}$, which using a logarithmic identity allows us to trade a product for a sum (computationally much easier!):\n",
    "\n",
    "$$\\log \\mathcal{L} = \\mathcal{K} - \\sum_i \\frac{(y_i - m\\,x_i - b)^2}{2\\sigma_{y_i}^2},$$\n",
    "\n",
    "where $\\mathcal{K}$ is a constant equal to $-\\frac{n}{2}\\log{2\\pi} - \\sum_i \\log{\\sigma_{y_i}}$."
   ]
  },
  {
   "cell_type": "markdown",
   "metadata": {
    "editable": true,
    "slideshow": {
     "slide_type": "subslide"
    },
    "tags": []
   },
   "source": [
    "Mathematically, maximizing the likelihood and the log likelihood are identical, and we will leverage this for the remainder of the problem."
   ]
  },
  {
   "cell_type": "markdown",
   "metadata": {
    "slideshow": {
     "slide_type": "slide"
    }
   },
   "source": [
    "**Problem 2a**\n",
    "\n",
    "Write a function `lnlikelihood` to calculate the log likelihood given input parameters `theta`, `y`, `x`, and `y_unc`.\n",
    "\n",
    "*Hint 1* – the constant $\\mathcal{K}$ is the same for any point in the parameter space. Thus it can be ignored as we only care about *relative* differences in the likelihood.\n",
    "\n",
    "*Hint 2* – store the model parameters in a single tuple `theta` = (m, b). This will make life easier later."
   ]
  },
  {
   "cell_type": "code",
   "execution_count": 13,
   "metadata": {
    "slideshow": {
     "slide_type": "subslide"
    }
   },
   "outputs": [],
   "source": [
    "def lnlikelihood(theta, y, x, y_unc):\n",
    "    '''\n",
    "    Calculate the log likelihood for a model assuming Gaussian uncertainties\n",
    "    \n",
    "    Parameters\n",
    "    ----------\n",
    "    theta : tuple\n",
    "        Model parameters\n",
    "    \n",
    "    y : arr-like, shape (n_samples)\n",
    "        Array of observational measurements\n",
    "    \n",
    "    x : arr-like, shape (n_samples)\n",
    "        Array of positions where y is measured\n",
    "    \n",
    "    y_unc : arr-like, shape (n_samples)\n",
    "        Array of uncertainties on y\n",
    "        \n",
    "    Returns\n",
    "    -------\n",
    "    lnl : float\n",
    "        The log-likelihood of the observations given the model parameters\n",
    "    '''\n",
    "    model_preds = get_model_predictions(theta, x) # complete\n",
    "    top = (y-model_preds)**2\n",
    "    bottom = 2 * (y_unc**2)\n",
    "    lnl = - np.sum(top/bottom) # complete\n",
    "    \n",
    "    return lnl"
   ]
  },
  {
   "cell_type": "markdown",
   "metadata": {
    "slideshow": {
     "slide_type": "slide"
    }
   },
   "source": [
    "**Problem 2b**\n",
    "\n",
    "Confirm your function works by estimating the log likelihood for $m = 1.5$ and $b = 50$.\n",
    "\n",
    "Is the log likelihood higher or lower if you use the true model parameters (see **1a**)? \n",
    "\n",
    "Does this make sense?"
   ]
  },
  {
   "cell_type": "code",
   "execution_count": 14,
   "metadata": {
    "slideshow": {
     "slide_type": "subslide"
    }
   },
   "outputs": [
    {
     "name": "stdout",
     "output_type": "stream",
     "text": [
      "ln L for m=1.5 and b=50 is: -20.7939\n",
      "ln L for m=2.3 and b=15 is: -14.9359\n"
     ]
    }
   ],
   "source": [
    "print('ln L for m=1.5 and b=50 is: {:.4f}'.format(lnlikelihood((1.5, 50), y_obs, x, y_unc))) # complete\n",
    "print('ln L for m=2.3 and b=15 is: {:.4f}'.format(lnlikelihood((2.3, 15), y_obs, x, y_unc))) # complete"
   ]
  },
  {
   "cell_type": "markdown",
   "metadata": {
    "slideshow": {
     "slide_type": "subslide"
    }
   },
   "source": [
    "*write your answer here*\n",
    "A: The likelihood should be higher for the true model than an estimation. This makes sense."
   ]
  },
  {
   "cell_type": "markdown",
   "metadata": {
    "editable": true,
    "slideshow": {
     "slide_type": "slide"
    },
    "tags": []
   },
   "source": [
    "The posterior requires an estimate of not just the likelihood, but also the prior. \n",
    "\n",
    "For this problem, how in the world do we choose the prior? "
   ]
  },
  {
   "cell_type": "markdown",
   "metadata": {
    "editable": true,
    "slideshow": {
     "slide_type": "subslide"
    },
    "tags": []
   },
   "source": [
    "When you have little to no knowledge of the actual model parameters, it is often \"safe\" to assume a wide and flat prior (sometimes referred to as an uninformative prior). A wide and flat prior essentially says that any value within the bounds of the prior is equally likely, while values outside the bounds are unacceptable. "
   ]
  },
  {
   "cell_type": "markdown",
   "metadata": {
    "editable": true,
    "slideshow": {
     "slide_type": "subslide"
    },
    "tags": []
   },
   "source": [
    "While we know the true answer, let's pretend that we don't. From the data (technically, using the data to estimate the prior is cheating) we can see that the slope is definitely positive, and also definitely less than 300 (the largest y value in the data set). Thus, we will set a uniform prior on $m$ from 0 to 300:\n",
    "\n",
    "$$P(m) \\sim \\mathcal{U}(0,300).$$\n",
    "\n",
    "From similar arguments the intercept is likely somewhere between -100 and 100:\n",
    "\n",
    "$$P(b) \\sim \\mathcal{U}(-100,100).$$\n"
   ]
  },
  {
   "cell_type": "markdown",
   "metadata": {
    "editable": true,
    "slideshow": {
     "slide_type": "slide"
    },
    "tags": []
   },
   "source": [
    "**Problem 2c**\n",
    "\n",
    "Write a function `lnprior` to calculate the log of the prior from an input tuple of the model parameters `theta`.\n",
    "\n",
    "*Hint* - while the $\\log{0}$ is undefined, have the function return `-np.inf` for values outside the bounds of the prior."
   ]
  },
  {
   "cell_type": "code",
   "execution_count": 15,
   "metadata": {
    "slideshow": {
     "slide_type": "subslide"
    }
   },
   "outputs": [],
   "source": [
    "def lnprior(theta):\n",
    "    '''\n",
    "    Calculate the log of the prior for the model parameters\n",
    "    \n",
    "    Parameters\n",
    "    ----------\n",
    "    theta : tuple\n",
    "        Model parameters\n",
    "            \n",
    "    Returns\n",
    "    -------\n",
    "    lnp : float\n",
    "        The log-prior of the model parameters\n",
    "    '''\n",
    "    m, b = theta\n",
    "    if 0 <= m <= 300 and -100 <= b <= 100:\n",
    "        lnp = np.log(1/300) + np.log(1/200) # assumes P(m) and P(y) are completely independent\n",
    "    else:\n",
    "        lnp = -np.inf # complete\n",
    "    \n",
    "    return lnp"
   ]
  },
  {
   "cell_type": "markdown",
   "metadata": {
    "slideshow": {
     "slide_type": "slide"
    }
   },
   "source": [
    "**Problem 2d**\n",
    "\n",
    "Calculate the prior for $(m, b) = (1, 0)$, $(2.3, 15)$, $(3, -150)$, and $(-1, 90)$.\n",
    "\n",
    "Do your answers make sense?"
   ]
  },
  {
   "cell_type": "code",
   "execution_count": 17,
   "metadata": {
    "slideshow": {
     "slide_type": "subslide"
    }
   },
   "outputs": [
    {
     "name": "stdout",
     "output_type": "stream",
     "text": [
      "ln P for m=1.0 and b=0 is: -11.0021\n",
      "ln P for m=2.3 and b=15 is: -11.0021\n",
      "ln P for m=3 and b=-150 is: -inf\n",
      "ln P for m=-1 and b=90 is: -inf\n"
     ]
    }
   ],
   "source": [
    "theta = (1, 0)\n",
    "print('ln P for m=1.0 and b=0 is: {:.4f}'.format(lnprior(theta))) # complete\n",
    "theta = (2.3, 15)\n",
    "print('ln P for m=2.3 and b=15 is: {:.4f}'.format(lnprior(theta))) # complete\n",
    "theta = (3, -150)\n",
    "print('ln P for m=3 and b=-150 is: {:.4f}'.format(lnprior(theta))) # complete\n",
    "theta = (-1, 90)\n",
    "print('ln P for m=-1 and b=90 is: {:.4f}'.format(lnprior(theta))) # complete"
   ]
  },
  {
   "cell_type": "markdown",
   "metadata": {
    "slideshow": {
     "slide_type": "subslide"
    }
   },
   "source": [
    "*write your answer here*\n",
    "A: Yes! The prior is the same for the m and b combination within our bounds and a negative infinity outside of it."
   ]
  },
  {
   "cell_type": "markdown",
   "metadata": {
    "slideshow": {
     "slide_type": "slide"
    }
   },
   "source": [
    "**Problem 2e**\n",
    "\n",
    "Write a function `lnposterior` to calculate the log of the posterior.\n",
    "\n",
    "*Hint* - this is straightforward using functions you have already written."
   ]
  },
  {
   "cell_type": "code",
   "execution_count": 18,
   "metadata": {
    "slideshow": {
     "slide_type": "subslide"
    }
   },
   "outputs": [],
   "source": [
    "def lnposterior(theta, y, x, y_unc):\n",
    "    '''\n",
    "    Calculate the log posterior\n",
    "    \n",
    "    Parameters\n",
    "    ----------\n",
    "    theta : tuple\n",
    "        Model parameters\n",
    "    \n",
    "    y : arr-like, shape (n_samples)\n",
    "        Array of observational measurements\n",
    "    \n",
    "    x : arr-like, shape (n_samples)\n",
    "        Array of positions where y is measured\n",
    "    \n",
    "    y_unc : arr-like, shape (n_samples)\n",
    "        Array of uncertainties on y\n",
    "        \n",
    "    Returns\n",
    "    -------\n",
    "    lnpost : float\n",
    "        The log-posterior from the observations and model parameters\n",
    "    '''\n",
    "    lnp = lnprior(theta)\n",
    "    if not np.isfinite(lnp):\n",
    "        return -np.inf\n",
    "    lnl = lnlikelihood(theta, y, x, y_unc) # complete\n",
    "    lnpost = lnp + lnl # complete\n",
    "        \n",
    "    return lnpost"
   ]
  },
  {
   "cell_type": "markdown",
   "metadata": {
    "slideshow": {
     "slide_type": "slide"
    }
   },
   "source": [
    "**Problem 2f**\n",
    "\n",
    "What is the log posterior for $m = 1.5$ and $b = 50$?\n",
    "\n",
    "What is the log posterior for $m = 2.3$ and $b = 15$?\n",
    "\n",
    "What is the log posterior for $m = 1.5$ and $b = 200$?\n",
    "\n",
    "Does this make sense?"
   ]
  },
  {
   "cell_type": "code",
   "execution_count": 20,
   "metadata": {
    "slideshow": {
     "slide_type": "subslide"
    }
   },
   "outputs": [
    {
     "name": "stdout",
     "output_type": "stream",
     "text": [
      "ln posterior for m=1.5 and b=50 is: -31.7960\n",
      "ln posterior for m=2.3 and b=15 is: -25.9380\n",
      "ln posterior for m=1.5 and b=200 is: -inf\n"
     ]
    }
   ],
   "source": [
    "print('ln posterior for m=1.5 and b=50 is: {:.4f}'.format(lnposterior((1.5, 50), y_obs, x, y_unc))) # complete\n",
    "print('ln posterior for m=2.3 and b=15 is: {:.4f}'.format(lnposterior((2.3, 15), y_obs, x, y_unc))) # complete\n",
    "print('ln posterior for m=1.5 and b=200 is: {:.4f}'.format(lnposterior((1.5, 200), y_obs, x, y_unc))) # complete"
   ]
  },
  {
   "cell_type": "markdown",
   "metadata": {
    "slideshow": {
     "slide_type": "subslide"
    }
   },
   "source": [
    "*write your answer here*\n",
    "A: Greatest posterior for true guess, the further off, the higher (unless so bad we jst go to negative infinity)"
   ]
  },
  {
   "cell_type": "markdown",
   "metadata": {
    "editable": true,
    "slideshow": {
     "slide_type": "slide"
    },
    "tags": []
   },
   "source": [
    "## Problem 3) The Metropolis-Hastings Algorithm\n",
    "\n",
    "The [Metropolis-Hastings Algorithm](https://en.wikipedia.org/wiki/Metropolis%E2%80%93Hastings_algorithm) (MH) is the most simple [Markov Chain](https://en.wikipedia.org/wiki/Markov_chain) [Monte Carlo](https://en.wikipedia.org/wiki/Monte_Carlo_method) ([MCMC](https://en.wikipedia.org/wiki/Markov_chain_Monte_Carlo)) procedure for estimating Bayesian posteriors. "
   ]
  },
  {
   "cell_type": "markdown",
   "metadata": {
    "editable": true,
    "slideshow": {
     "slide_type": "slide"
    },
    "tags": []
   },
   "source": [
    "The pseudo-code for the MH algorithm is:\n",
    "\n",
    "0. pick some position $\\theta_0$ in the parameter space and calculate the posterior $P(\\theta_{0}\\mid \\mathbf{x})$\n",
    "1. begin the chain\n",
    "    - \"propose\" a move from the current position $\\theta_{i}$ to a new position $\\theta_{i+1}$\n",
    "    - calculate the posterior at $\\theta_{i+1}$, $P(\\theta_{i+1}\\mid \\mathbf{x})$\n",
    "    - draw a random number, $R \\sim \\mathcal{U}(0,1)$\n",
    "    - if the ratio $P(\\theta_{i+1}\\mid \\mathbf{x})/P(\\theta_{i}\\mid \\mathbf{x})$ is $> R$, \"accept\" the proposed move and advance the chain to $\\theta_{i+1}$\n",
    "    - else \"reject\" the proposal and set $\\theta_{i+1} = \\theta_{i}$\n",
    "\n",
    "2. repeat until chain is \"finished\""
   ]
  },
  {
   "cell_type": "markdown",
   "metadata": {
    "editable": true,
    "slideshow": {
     "slide_type": "slide"
    },
    "tags": []
   },
   "source": [
    "A few subtleties worth noting: the use of the random number is essential for allowing the MH algorithm to \"explore\" the full posterior. It's actually possible to add links to the chain that are less probable than the current position. This is an important distinction relative to optimization routines that simply identify local maxima, but only progressing in the direction of increased probability.\n",
    "\n",
    "Also \"finished\" isn't really defined - there are different methods to assess being \"done\" we will discuss them later."
   ]
  },
  {
   "cell_type": "markdown",
   "metadata": {
    "editable": true,
    "slideshow": {
     "slide_type": "slide"
    },
    "tags": []
   },
   "source": [
    "An extra subtle point: technically you need to calculate the full Hastings ratio, $H$, when evaluating whether or not to accept or reject a proposal:\n",
    "\n",
    "$$H = \\frac{\\pi(\\theta_{i+1})}{\\pi(\\theta_{i})} \\frac{q(\\theta_i \\mid \\theta_{i+1})}{q(\\theta_{i+1} \\mid \\theta_{i})},$$\n",
    "\n",
    "where $q(\\theta_i \\mid \\theta_{i+1})/q(\\theta_{i+1} \\mid \\theta_{i})$ is the ratio of transition probabilities from $\\theta_{i+1}$ to $\\theta_{i}$ and back again. \n",
    "\n",
    "Fortunately, most proposals are symmetric, including what we will implement, meaning the ratio of transition probabilities is 1, and thus, this term can be safely ignored."
   ]
  },
  {
   "cell_type": "markdown",
   "metadata": {
    "editable": true,
    "slideshow": {
     "slide_type": "slide"
    },
    "tags": []
   },
   "source": [
    "**Problem 3a**\n",
    "\n",
    "Write a function `hastings_ratio` to calculate the ratio of log-posterior values at `theta_1` relative to `theta_0`.\n",
    "\n",
    "*Hint* – assume the ratio of transition probabilities is 1.\n",
    "\n",
    "*Hint 2* – the hastings ratio is for probabilities, not log probabilities."
   ]
  },
  {
   "cell_type": "code",
   "execution_count": 23,
   "metadata": {
    "editable": true,
    "slideshow": {
     "slide_type": "subslide"
    },
    "tags": []
   },
   "outputs": [],
   "source": [
    "def hastings_ratio(theta_1, theta_0, y, x, y_unc):\n",
    "    '''\n",
    "    Calculate the Hastings ratio\n",
    "    \n",
    "    Parameters\n",
    "    ----------\n",
    "    theta_1 : tuple\n",
    "        proposed new posterior position \n",
    "    \n",
    "    theta_0 : tuple\n",
    "        current posterior position\n",
    "    \n",
    "    y : arr-like, shape (n_samples)\n",
    "        Array of observational measurements\n",
    "    \n",
    "    x : arr-like, shape (n_samples)\n",
    "        Array of positions where y is measured\n",
    "    \n",
    "    y_unc : arr-like, shape (n_samples)\n",
    "        Array of uncertainties on y\n",
    "        \n",
    "    Returns\n",
    "    -------\n",
    "    h_ratio : float\n",
    "        The Hastings ratio\n",
    "    '''\n",
    "    lnpost1 = np.exp(lnposterior(theta_1, y, x, y_unc)) # complete\n",
    "    lnpost0 = np.exp(lnposterior(theta_0, y, x, y_unc)) # complete\n",
    "    \n",
    "    h_ratio = lnpost1 / lnpost0 # complete\n",
    "    \n",
    "    return h_ratio"
   ]
  },
  {
   "cell_type": "markdown",
   "metadata": {
    "editable": true,
    "slideshow": {
     "slide_type": "slide"
    },
    "tags": []
   },
   "source": [
    "**Problem 3b**\n",
    "\n",
    "Calculate the Hastings ratio to move from $(2.1, 50)$ to $(2.2,30)$.\n",
    "\n",
    "How often would the algorithm accept this step?"
   ]
  },
  {
   "cell_type": "code",
   "execution_count": 25,
   "metadata": {
    "slideshow": {
     "slide_type": "subslide"
    }
   },
   "outputs": [
    {
     "name": "stdout",
     "output_type": "stream",
     "text": [
      "The Hastings ratio is: 55.7871\n"
     ]
    }
   ],
   "source": [
    "print('The Hastings ratio is: {:.4f}'.format(hastings_ratio((2.2, 30), (2.1, 50), y_obs, x, y_unc))) # complete"
   ]
  },
  {
   "cell_type": "markdown",
   "metadata": {
    "slideshow": {
     "slide_type": "subslide"
    }
   },
   "source": [
    "*write your answer here*\n",
    "It's about 56, which is high, so it should do it a lot! Maybe 56 times?\n",
    "In this case $H > 1$, and thus this proposed move  would be accepted every time."
   ]
  },
  {
   "cell_type": "markdown",
   "metadata": {
    "slideshow": {
     "slide_type": "slide"
    }
   },
   "source": [
    "**Problem 3c** \n",
    "\n",
    "What about the reverse proposal? Calculate the Hastings ratio to move from (2.2, 30) to (2.1, 50). \n",
    "\n",
    "On average, how many times would such a proposal need to be made to be accepted by the MH algortihm?"
   ]
  },
  {
   "cell_type": "code",
   "execution_count": 27,
   "metadata": {
    "slideshow": {
     "slide_type": "subslide"
    }
   },
   "outputs": [
    {
     "name": "stdout",
     "output_type": "stream",
     "text": [
      "The Hastings ratio is: 0.0179\n"
     ]
    }
   ],
   "source": [
    "print('The Hastings ratio is: {:.4f}'.format(hastings_ratio((2.1, 50), (2.2,30), y_obs, x, y_unc))) # complete"
   ]
  },
  {
   "cell_type": "markdown",
   "metadata": {
    "slideshow": {
     "slide_type": "subslide"
    }
   },
   "source": [
    "*write your answer here*\n",
    "Very rarely! It's less than one."
   ]
  },
  {
   "cell_type": "markdown",
   "metadata": {
    "slideshow": {
     "slide_type": "subslide"
    }
   },
   "source": [
    "As we will show below, the difference between an MCMC chain that takes forever and one that samples the posterior \"quickly\" is largely a function of the proposal distribution. \n",
    "\n",
    "We want a symmetric proposal to ensure the transition ratio is equal to 1. The easiest way to accomplish this is with a normal distribution centered at the current position in the posterior, with a user-defined covariance matrix. (Today we will assume the covariance matrix is  diagonal)."
   ]
  },
  {
   "cell_type": "markdown",
   "metadata": {
    "slideshow": {
     "slide_type": "subslide"
    }
   },
   "source": [
    "**Problem 3d**\n",
    "\n",
    "Write a function `propose_jump` that creates new proposal positions for the MCMC chain, based on its current position, `theta`, and a covariance matrix, `cov`, for the multivariate normal distribution centered on `theta`.\n",
    "\n",
    "*Hint 1* - allow `cov` to be either 1-D with standard deviations as the input, in which case the entries are converted to a diagonal matrix, or 2-D, where the full covariance matrix is specified.\n",
    "\n",
    "*Hint 2* - you may find [`numpy.random.multivariate_normal`](https://docs.scipy.org/doc/numpy-1.14.0/reference/generated/numpy.random.multivariate_normal.html) helpful."
   ]
  },
  {
   "cell_type": "code",
   "execution_count": 28,
   "metadata": {
    "editable": true,
    "slideshow": {
     "slide_type": "subslide"
    },
    "tags": []
   },
   "outputs": [],
   "source": [
    "def propose_jump(theta, cov):\n",
    "    '''\n",
    "    Generate a proposed new position for MCMC chain\n",
    "    \n",
    "    Parameters\n",
    "    ----------\n",
    "    theta : 1-D array_like, of length N\n",
    "        current position of the MCMC chain\n",
    "    \n",
    "    cov : 1-D or 2-D array_like, of shape (N,) or (N, N)\n",
    "        Covariance matrix of the distribution. It must be symmetric \n",
    "        and positive-semidefinite for proper sampling.\n",
    "        \n",
    "        1-D inputs for cov require the standard deviation along \n",
    "        each axis of the N-dimensional Gaussian.\n",
    "\n",
    "    \n",
    "    Returns\n",
    "    -------\n",
    "    proposed_position : 1-D array_like, of length N\n",
    "    '''\n",
    "    if np.shape(theta) == np.shape(cov):\n",
    "        cov = np.diag(np.array(cov)**2)\n",
    "    \n",
    "    proposed_position = np.random.multivariate_normal(theta, cov)\n",
    "    \n",
    "    return proposed_position"
   ]
  },
  {
   "cell_type": "markdown",
   "metadata": {
    "slideshow": {
     "slide_type": "slide"
    }
   },
   "source": [
    "**Problem 3e**\n",
    "\n",
    "Propose 5 random steps from the position $(m, b) = (2, 45)$, and calculate the Hastings ratio for each of the 5 proposals. Use a standard deviation of 1 along both axes of the multivariate normal distribution.\n",
    "\n",
    "Do you notice anything interesting about your results?"
   ]
  },
  {
   "cell_type": "code",
   "execution_count": 38,
   "metadata": {
    "slideshow": {
     "slide_type": "subslide"
    }
   },
   "outputs": [
    {
     "name": "stdout",
     "output_type": "stream",
     "text": [
      "Jumping to [ 1.96075618 46.33447218], gives H = 0.8870\n",
      "Jumping to [ 2.77799176 45.65623248], gives H = 0.0000\n",
      "Jumping to [ 0.44413314 45.5928476 ], gives H = 0.0000\n",
      "Jumping to [ 1.94304903 44.42700755], gives H = 1.3042\n",
      "Jumping to [ 1.23418501 46.55983538], gives H = 0.0000\n"
     ]
    }
   ],
   "source": [
    "theta_0 = (2,45)\n",
    "for _ in range(5):\n",
    "    new_pos = propose_jump(theta_0, (1,1))\n",
    "    H = hastings_ratio(new_pos, theta_0, y_obs, x, y_unc) # complete\n",
    "    print('Jumping to {}, gives H = {:.4f}'.format(new_pos, H))"
   ]
  },
  {
   "cell_type": "markdown",
   "metadata": {
    "slideshow": {
     "slide_type": "subslide"
    }
   },
   "source": [
    "*write your answer here*\n",
    "Most of them end up really low, but occasionally you'll get a high jump."
   ]
  },
  {
   "cell_type": "markdown",
   "metadata": {
    "slideshow": {
     "slide_type": "slide"
    }
   },
   "source": [
    "**Problem 3f**\n",
    "\n",
    "Repeat **3e** but this time use a standard deviation of 0.1 for the slope and 10 for intercept.\n",
    "\n",
    "Are the results substantially different?"
   ]
  },
  {
   "cell_type": "code",
   "execution_count": 39,
   "metadata": {
    "slideshow": {
     "slide_type": "subslide"
    }
   },
   "outputs": [
    {
     "name": "stdout",
     "output_type": "stream",
     "text": [
      "Jumping to [ 2.13472945 47.01603484], gives H = 0.1748\n",
      "Jumping to [ 2.01659787 47.57340295], gives H = 0.4915\n",
      "Jumping to [ 1.98231145 42.03128311], gives H = 1.8006\n",
      "Jumping to [ 1.98195993 44.58306828], gives H = 1.1662\n",
      "Jumping to [ 1.94042113 25.67976923], gives H = 1.4933\n"
     ]
    }
   ],
   "source": [
    "theta_0 = (2,45)\n",
    "for _ in range(5):\n",
    "    new_pos = propose_jump(theta_0, (0.1,10))\n",
    "    H = hastings_ratio(new_pos, theta_0, y_obs, x, y_unc) # complete\n",
    "    print('Jumping to {}, gives H = {:.4f}'.format(new_pos, H))"
   ]
  },
  {
   "cell_type": "markdown",
   "metadata": {
    "slideshow": {
     "slide_type": "subslide"
    }
   },
   "source": [
    "*write your answer here*\n",
    "Yes! Lots more H values than above 1 when randomly stepping.\n",
    "\n",
    "The Hastings ratios are now much larger. It is clear that the width of the multivariate normal along each axis will affect the efficiency of the MH sampler."
   ]
  },
  {
   "cell_type": "markdown",
   "metadata": {
    "slideshow": {
     "slide_type": "slide"
    }
   },
   "source": [
    "Referring back to the pseudo code above, we now have all the ingredients necessary to put together a MH sampler. We just need to stitch everything together so that we actually form a chain."
   ]
  },
  {
   "cell_type": "markdown",
   "metadata": {
    "slideshow": {
     "slide_type": "slide"
    }
   },
   "source": [
    "**Problem 3g**\n",
    "\n",
    "Write a function `mh_mcmc` that takes an initial position `theta_0`, covariance matrix for the multivariate normal proposal distribution `cov`, total number of steps `nsteps`, and observations `y`, `x`, and `y_unc` as inputs and returns the Metropolis-Hastings chain for the given inputs.\n",
    "\n",
    "The output \"chain\" should include the position of the chain within the parameter space, the log of the posterior at that position, and the \"acceptance ratio\" of the chain until that point. The acceptance ratio is the fraction of previously proposed steps (including the current proposal) that have been accepted. We will come back to this later."
   ]
  },
  {
   "cell_type": "code",
   "execution_count": 48,
   "metadata": {
    "slideshow": {
     "slide_type": "subslide"
    }
   },
   "outputs": [],
   "source": [
    "def mh_mcmc(theta_0, cov, nsteps, y, x, y_unc):\n",
    "    '''\n",
    "    Metropolis-Hastings MCMC algorithm\n",
    "    \n",
    "    Parameters\n",
    "    ----------\n",
    "    theta_0 : 1-D array_like of shape N\n",
    "        starting position for the MCMC chain\n",
    "    \n",
    "    cov : 1-D or 2-D array_like, of shape (N,) or (N, N)\n",
    "        Covariance matrix of the distribution. It must be symmetric \n",
    "        and positive-semidefinite for proper sampling.\n",
    "        \n",
    "        1-D inputs for cov require the standard deviation along \n",
    "        each axis of the N-dimensional Gaussian.\n",
    "\n",
    "    nsteps : int\n",
    "        Number of steps to take in the MCMC chain\n",
    "        \n",
    "    y : arr-like, shape (n_samples)\n",
    "        Array of observational measurements\n",
    "    \n",
    "    x : arr-like, shape (n_samples)\n",
    "        Array of positions where y is measured\n",
    "    \n",
    "    y_unc : arr-like, shape (n_samples)\n",
    "        Array of uncertainties on y\n",
    "        \n",
    "    Returns\n",
    "    -------\n",
    "    (positions, lnpost_at_pos, acceptance_ratio) : tuple\n",
    "        positions : 2-D array_like of shape (nsteps+1, N)\n",
    "            Position of the MCMC chain at every step\n",
    "        \n",
    "        lnpost_at_pos : 1-D array_like of shape nsteps+1\n",
    "            log-posterior value at the position of the MCMC chain\n",
    "        \n",
    "        acceptance_ratio : 1-D array_like of shape nsteps+1\n",
    "            acceptance ratio of all previous steps in the chain    \n",
    "    '''\n",
    "    \n",
    "    positions = np.zeros((nsteps+1, len(theta_0)))\n",
    "    lnpost_at_pos = -np.inf*np.ones(nsteps+1)\n",
    "    acceptance_ratio = np.zeros_like(lnpost_at_pos)\n",
    "    accepted = 0\n",
    "\n",
    "    positions[0] = theta_0\n",
    "    lnpost_at_pos[0] = lnposterior(theta_0, y, x, y_unc)\n",
    "\n",
    "    # doable in 13 lines\n",
    "    for nthstep in np.arange(1, nsteps+1):\n",
    "        new_pos = propose_jump(positions[nthstep-1], cov)\n",
    "        H = hastings_ratio(new_pos, positions[nthstep-1], y, x, y_unc)\n",
    "        R = np.random.uniform()\n",
    "        \n",
    "        if H > R:\n",
    "            accepted+= 1\n",
    "            positions[nthstep] = new_pos\n",
    "            lnpost_at_pos[nthstep] = lnposterior(new_pos, y, x, y_unc)\n",
    "            acceptance_ratio[nthstep] = float(accepted)/nthstep\n",
    "            \n",
    "        else:\n",
    "            positions[nthstep] = positions[nthstep-1]\n",
    "            lnpost_at_pos[nthstep] = lnpost_at_pos[nthstep-1]\n",
    "            acceptance_ratio[nthstep] = float(accepted)/nthstep\n",
    "    \n",
    "    return (positions, lnpost_at_pos, acceptance_ratio)"
   ]
  },
  {
   "cell_type": "markdown",
   "metadata": {
    "scrolled": true
   },
   "source": [
    "1. begin the chain\n",
    "    - \"propose\" a move from the current position $\\theta_{i}$ to a new position $\\theta_{i+1}$\n",
    "    - calculate the posterior at $\\theta_{i+1}$, $P(\\theta_{i+1}\\mid \\mathbf{x})$\n",
    "    - draw a random number, $R \\sim \\mathcal{U}(0,1)$\n",
    "    - if the ratio $P(\\theta_{i+1}\\mid \\mathbf{x})/P(\\theta_{i}\\mid \\mathbf{x})$ is $> R$, \"accept\" the proposed move and advance the chain to $\\theta_{i+1}$\n",
    "    - else \"reject\" the proposal and set $\\theta_{i+1} = \\theta_{i}$\n"
   ]
  },
  {
   "cell_type": "markdown",
   "metadata": {
    "slideshow": {
     "slide_type": "slide"
    }
   },
   "source": [
    "**Problem 3h**\n",
    "\n",
    "Run the MH sampler! \n",
    "\n",
    "Using a starting point of $(m, b) = (2.7, -70)$ (this is estimated from the two most extreme points in the dataset), `cov = (0.25, 5)`, and run the chain for 500 steps."
   ]
  },
  {
   "cell_type": "code",
   "execution_count": 49,
   "metadata": {
    "slideshow": {
     "slide_type": "subslide"
    }
   },
   "outputs": [],
   "source": [
    "pos, lnpost, acc = mh_mcmc((2.7,-70), (0.25, 5), 500, y_obs, x, y_unc)"
   ]
  },
  {
   "cell_type": "markdown",
   "metadata": {
    "slideshow": {
     "slide_type": "slide"
    }
   },
   "source": [
    "**Problem 3i**\n",
    "\n",
    "Plot the positions of the chain in the $(m, b)$ plane. Overplot the true answer as a five-pointed star.\n",
    "\n",
    "Does your plot \"make sense\"?\n",
    "\n",
    "*Hint* – connect the points with line segments so you can visualize its evolution. \n",
    "\n",
    "*Hint 2* – set `alpha = 0.4` to get a sense of positions where multiple proposals were required for the chain to move."
   ]
  },
  {
   "cell_type": "code",
   "execution_count": 61,
   "metadata": {
    "slideshow": {
     "slide_type": "subslide"
    }
   },
   "outputs": [
    {
     "data": {
      "application/vnd.jupyter.widget-view+json": {
       "model_id": "bdd7b051d0b74d2e96b14a1300480994",
       "version_major": 2,
       "version_minor": 0
      },
      "image/png": "[encoded data removed]",
      "text/html": [
       "\n",
       "            <div style=\"display: inline-block;\">\n",
       "                <div class=\"jupyter-widgets widget-label\" style=\"text-align: center;\">\n",
       "                    Figure\n",
       "                </div>\n",
       "                <img src='data:image/png;base64,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' width=640.0/>\n",
       "            </div>\n",
       "        "
      ],
      "text/plain": [
       "Canvas(toolbar=Toolbar(toolitems=[('Home', 'Reset original view', 'home', 'home'), ('Back', 'Back to previous …"
      ]
     },
     "metadata": {},
     "output_type": "display_data"
    }
   ],
   "source": [
    "fig, ax = plt.subplots()\n",
    "ax.plot(pos[:,0], pos[:,1], 'o-', alpha=0.4) # complete\n",
    "ax.plot(2.3, 15, \n",
    "        '*', ms=30, \n",
    "        mfc='Crimson', mec='0.8', mew=2, \n",
    "        alpha=0.7)\n",
    "ax.set_xlabel('m', fontsize=14)\n",
    "ax.set_ylabel('b', fontsize=14)\n",
    "fig.tight_layout()"
   ]
  },
  {
   "cell_type": "markdown",
   "metadata": {
    "slideshow": {
     "slide_type": "slide"
    }
   },
   "source": [
    "**Problem 3j**\n",
    "\n",
    "Recreate the above plot, but this time color code the individual points by the value of the log posterior at each position.\n",
    "\n",
    "*Hint* –– you will want to use [`pyplot.scatter`](https://matplotlib.org/3.1.1/api/_as_gen/matplotlib.pyplot.scatter.html)"
   ]
  },
  {
   "cell_type": "code",
   "execution_count": 60,
   "metadata": {
    "slideshow": {
     "slide_type": "slide"
    }
   },
   "outputs": [
    {
     "ename": "SyntaxError",
     "evalue": "invalid syntax (1587150706.py, line 3)",
     "output_type": "error",
     "traceback": [
      "\u001b[0;36m  Cell \u001b[0;32mIn[60], line 3\u001b[0;36m\u001b[0m\n\u001b[0;31m    ax.scatter(2.3, 15 c=cax)# complete\u001b[0m\n\u001b[0m                       ^\u001b[0m\n\u001b[0;31mSyntaxError\u001b[0m\u001b[0;31m:\u001b[0m invalid syntax\n"
     ]
    }
   ],
   "source": [
    "fig, ax = plt.subplots()\n",
    "ax.plot(pos[:,0], pos[:,1], 'o-', alpha=0.4)\n",
    "ax.scatter(2.3, 15 )# complete\n",
    "ax.plot(2.3, 15, \n",
    "        '*', ms=30, \n",
    "        mfc='Crimson', mec='0.8', mew=2, \n",
    "        alpha=0.7, zorder=20)\n",
    "ax.set_xlabel('m', fontsize=14)\n",
    "ax.set_ylabel('b', fontsize=14)\n",
    "cbar = fig.colorbar(cax)\n",
    "cbar.ax.set_ylabel(r'$\\log \\; \\pi (\\theta)$', fontsize=12)\n",
    "fig.tight_layout()"
   ]
  },
  {
   "cell_type": "markdown",
   "metadata": {
    "slideshow": {
     "slide_type": "slide"
    }
   },
   "source": [
    "Awesome! \n",
    "\n",
    "You are now tooled up to solve any Bayesian problem that you might encounter."
   ]
  },
  {
   "cell_type": "markdown",
   "metadata": {
    "slideshow": {
     "slide_type": "slide"
    }
   },
   "source": [
    "## Problem 4) Optimizing MH\n",
    "\n",
    "While you are now, no doubt, wildly excited about what you have accomplished in $\\sim{90}$ min time, there should be a few things that bother you. In particular, there were several \"hard coded\" options in the previous problem. "
   ]
  },
  {
   "cell_type": "markdown",
   "metadata": {
    "slideshow": {
     "slide_type": "subslide"
    }
   },
   "source": [
    "#### Weird Choice #1\n",
    "\n",
    "Why 500 steps? \n",
    "\n",
    "It's clear from **3i** that ~10-20 steps is no where near enough, as the chain does not sample the maximum of the posterior. But is 500 steps too many? Or is it not enough?\n",
    "\n",
    "(There are mathematical ways to judge this, which we will cover tomorrow)"
   ]
  },
  {
   "cell_type": "markdown",
   "metadata": {
    "slideshow": {
     "slide_type": "subslide"
    }
   },
   "source": [
    "#### Weird Choice #2\n",
    "\n",
    "Why `(0.2, 10)` for the widths of the multivariate normal proposal function?\n",
    "\n",
    "Previously we argued that it's possible to take steps that are too large, but is it also possible the steps are too small?\n",
    "\n",
    "(Technically, as we will see tomorrow, the step size does not matter as all MCMC chains will eventually eplore the full posterior within an infinite number of steps, but who amoung us can wait infinity seconds to learn the slope of this line?)"
   ]
  },
  {
   "cell_type": "markdown",
   "metadata": {
    "slideshow": {
     "slide_type": "subslide"
    }
   },
   "source": [
    "#### Weird Choice #3\n",
    "\n",
    "Why did we start the chain at (2.7,-70)?\n",
    "\n",
    "(Again, technically this does not matter, but do you want to wait for an infinite number of steps before getting the results?)"
   ]
  },
  {
   "cell_type": "markdown",
   "metadata": {
    "slideshow": {
     "slide_type": "subslide"
    }
   },
   "source": [
    "Tommorrow we will formalize all of these choices, for now we will try to develop some intuition via some graphical examples."
   ]
  },
  {
   "cell_type": "markdown",
   "metadata": {
    "slideshow": {
     "slide_type": "slide"
    }
   },
   "source": [
    "**Problem 4a**\n",
    "\n",
    "Write a function `plot_post` that recreates the plots from **3i** and **3j** side by side given inputs \n",
    "`theta_0`, `cov`, `nsteps`, `y`, `x`, and `y_unc`."
   ]
  },
  {
   "cell_type": "code",
   "execution_count": null,
   "metadata": {
    "editable": true,
    "slideshow": {
     "slide_type": ""
    },
    "tags": []
   },
   "outputs": [],
   "source": [
    "def plot_post(theta_0, cov, nsteps, y, x, y_unc):\n",
    "    '''\n",
    "    Plot posterior trace from MH MCMC\n",
    "    \n",
    "    Parameters\n",
    "    ----------\n",
    "    theta_0 : 1-D array_like of shape N\n",
    "        starting position for the MCMC chain\n",
    "    \n",
    "    cov : 1-D or 2-D array_like, of shape (N,) or (N, N)\n",
    "        Covariance matrix of the distribution. It must be symmetric \n",
    "        and positive-semidefinite for proper sampling.\n",
    "        \n",
    "        1-D inputs for cov require the standard deviation along \n",
    "        each axis of the N-dimensional Gaussian.\n",
    "\n",
    "    nsteps : int\n",
    "        Number of steps to take in the MCMC chain\n",
    "        \n",
    "    y : arr-like, shape (n_samples)\n",
    "        Array of observational measurements\n",
    "    \n",
    "    x : arr-like, shape (n_samples)\n",
    "        Array of positions where y is measured\n",
    "    \n",
    "    y_unc : arr-like, shape (n_samples)\n",
    "        Array of uncertainties on y\n",
    "    '''\n",
    "    pos, lnpost, acc = mh_mcmc(theta_0, cov, nsteps, y_obs, x, y_unc)\n",
    "    \n",
    "    fig, (ax1, ax2) = plt.subplots(1,2,figsize=(9,4))\n",
    "    \n",
    "    ax1.plot(pos[:,0], pos[:,1], 'o-', alpha=0.3)\n",
    "    ax1.plot(2.3, 15, '*', ms=30, \n",
    "            mfc='Crimson', mec='0.8', mew=2, \n",
    "            alpha=0.7)\n",
    "    ax1.set_xlabel('m', fontsize=14)\n",
    "    ax1.set_ylabel('b', fontsize=14)\n",
    "\n",
    "    ax2.plot(pos[:,0], pos[:,1], 'o-', alpha=0.3)\n",
    "    cax = ax2.scatter(pos[:,0], pos[:,1], c = lnpost, zorder=10)\n",
    "    ax2.plot(2.3, 15, '*', ms=30, \n",
    "            mfc='Crimson', mec='0.8', mew=2, \n",
    "            alpha=0.7, zorder=20)\n",
    "    ax2.set_xlabel('m', fontsize=14)\n",
    "    ax2.set_ylabel('b', fontsize=14)\n",
    "    cbar = fig.colorbar(cax)\n",
    "    cbar.ax.set_ylabel(r'$\\log \\; \\pi (\\theta)$', fontsize=12)\n",
    "    fig.tight_layout()\n",
    "    \n",
    "    return"
   ]
  },
  {
   "cell_type": "markdown",
   "metadata": {
    "slideshow": {
     "slide_type": "slide"
    }
   },
   "source": [
    "**Problem 4b**\n",
    "\n",
    "Plot the MH chain using `theta_0 = (2.7, -70)`, `cov = (0.25, 5)`, for 50 steps.\n",
    "\n",
    "Do the same for a chain with 5000 steps.\n",
    "\n",
    "What changes do you notice as you vary the number of steps?"
   ]
  },
  {
   "cell_type": "code",
   "execution_count": null,
   "metadata": {
    "slideshow": {
     "slide_type": "subslide"
    }
   },
   "outputs": [],
   "source": [
    "# 50 step plot\n",
    "plot_post( # complete"
   ]
  },
  {
   "cell_type": "code",
   "execution_count": null,
   "metadata": {
    "slideshow": {
     "slide_type": "subslide"
    }
   },
   "outputs": [],
   "source": [
    "# 5000 step plot\n",
    "plot_post( # complete"
   ]
  },
  {
   "cell_type": "markdown",
   "metadata": {
    "slideshow": {
     "slide_type": "subslide"
    }
   },
   "source": [
    "*write your answer here*\n",
    "\n"
   ]
  },
  {
   "cell_type": "markdown",
   "metadata": {
    "slideshow": {
     "slide_type": "slide"
    }
   },
   "source": [
    "**Problem 4b**\n",
    "\n",
    "Plot the MH chain using `theta_0 = (2.7, -70)`, `cov = (.025, .5)`, for 500 steps.\n",
    "\n",
    "Do the same for `cov = (2.5, 50)`.\n",
    "\n",
    "What changes do you notice as you vary the size of the proposal distribution?"
   ]
  },
  {
   "cell_type": "code",
   "execution_count": null,
   "metadata": {
    "slideshow": {
     "slide_type": "subslide"
    }
   },
   "outputs": [],
   "source": [
    "# cov = (0.025, .5) plot\n",
    "plot_post( # complete"
   ]
  },
  {
   "cell_type": "code",
   "execution_count": null,
   "metadata": {
    "slideshow": {
     "slide_type": "subslide"
    }
   },
   "outputs": [],
   "source": [
    "# cov = (2.5, 50) plot\n",
    "plot_post( # complete"
   ]
  },
  {
   "cell_type": "markdown",
   "metadata": {
    "slideshow": {
     "slide_type": "subslide"
    }
   },
   "source": [
    "*write your answer here*\n"
   ]
  },
  {
   "cell_type": "markdown",
   "metadata": {
    "slideshow": {
     "slide_type": "slide"
    }
   },
   "source": [
    "**Problem 4c**\n",
    "\n",
    "Plot the MH chain using `theta_0 = (27, -100)`, `cov = (.25, 5)`, for 500 steps.\n",
    "\n",
    "Do the same for `theta_0 = (.27, -7)`.\n",
    "\n",
    "What changes do you notice as you vary the starting position of the chain?"
   ]
  },
  {
   "cell_type": "code",
   "execution_count": null,
   "metadata": {
    "slideshow": {
     "slide_type": "subslide"
    }
   },
   "outputs": [],
   "source": [
    "# theta_0 = (27, -100) plot\n",
    "plot_post( # complete"
   ]
  },
  {
   "cell_type": "code",
   "execution_count": null,
   "metadata": {
    "slideshow": {
     "slide_type": "subslide"
    }
   },
   "outputs": [],
   "source": [
    "# theta_0 = (.27, -7) plot\n",
    "plot_post( # complete"
   ]
  },
  {
   "cell_type": "markdown",
   "metadata": {
    "slideshow": {
     "slide_type": "subslide"
    }
   },
   "source": [
    "*write your answer here*\n"
   ]
  },
  {
   "cell_type": "markdown",
   "metadata": {
    "slideshow": {
     "slide_type": "slide"
    }
   },
   "source": [
    "When evaluating MCMC chains, there are many different diagnostic plots that are helpful for that purpose. \n",
    "\n",
    "Below is a helper function that overplots draws from the posterior on top of the observations, an estimate of the posterior, and the 1-d chains for $m$, $b$, $\\log \\pi$, and the acceptance rate."
   ]
  },
  {
   "cell_type": "code",
   "execution_count": null,
   "metadata": {
    "editable": true,
    "slideshow": {
     "slide_type": "slide"
    },
    "tags": []
   },
   "outputs": [],
   "source": [
    "def plot_mh_summary(theta_0, cov, nsteps, y, x, y_unc):\n",
    "    '''\n",
    "    Plot the posterior, draws from the posterior, and 1-d chains\n",
    "    \n",
    "    Parameters\n",
    "    ----------\n",
    "    theta_0 : 1-D array_like of shape N\n",
    "        starting position for the MCMC chain\n",
    "    \n",
    "    cov : 1-D or 2-D array_like, of shape (N,) or (N, N)\n",
    "        Covariance matrix of the distribution. It must be symmetric \n",
    "        and positive-semidefinite for proper sampling.\n",
    "        \n",
    "        1-D inputs for cov require the standard deviation along \n",
    "        each axis of the N-dimensional Gaussian.\n",
    "\n",
    "    nsteps : int\n",
    "        Number of steps to take in the MCMC chain\n",
    "        \n",
    "    y : arr-like, shape (n_samples)\n",
    "        Array of observational measurements\n",
    "    \n",
    "    x : arr-like, shape (n_samples)\n",
    "        Array of positions where y is measured\n",
    "    \n",
    "    y_unc : arr-like, shape (n_samples)\n",
    "        Array of uncertainties on y\n",
    "    '''\n",
    "    pos, lnpost, acc = mh_mcmc(theta_0, cov, nsteps, y_obs, x, y_unc)\n",
    "\n",
    "    fig = plt.figure(figsize=(7.5,6))\n",
    "    ax1 = plt.subplot2grid((4,5), (0, 0), colspan=2, rowspan=2)\n",
    "    ax2 = plt.subplot2grid((4,5), (2, 0), colspan=2, rowspan=2)\n",
    "    ax3 = plt.subplot2grid((4,5), (0, 2), colspan=3)\n",
    "    ax4 = plt.subplot2grid((4,5), (1, 2), colspan=3, sharex=ax3)\n",
    "    ax5 = plt.subplot2grid((4,5), (2, 2), colspan=3, sharex=ax3)\n",
    "    ax6 = plt.subplot2grid((4,5), (3, 2), colspan=3, sharex=ax3)\n",
    "\n",
    "    # posterior\n",
    "    ax1.hexbin(pos[:,0], pos[:,1], gridsize=50, mincnt=1, bins='log')\n",
    "    ax1.plot(2.3, 15, '*', ms=30, \n",
    "        mfc='Crimson', mec='0.8', mew=2, \n",
    "        alpha=0.7)\n",
    "    ylims = ax1.get_ylim()\n",
    "    xlims = ax1.get_xlim()\n",
    "    ax1.plot([2.3, 2.3], ylims, 'Crimson', alpha=0.3)\n",
    "    ax1.plot(xlims, [15, 15], 'Crimson', alpha=0.3)\n",
    "    ax1.set_ylim(ylims)\n",
    "    ax1.set_xlim(xlims)\n",
    "    ax1.set_xlabel('m')\n",
    "    ax1.set_ylabel('b')\n",
    "    ax1.xaxis.set_ticks_position('top')\n",
    "    ax1.xaxis.set_label_position('top')\n",
    "    ax1.tick_params(top=True, bottom=False)\n",
    "    \n",
    "    # posterior draws\n",
    "    ax2.errorbar(x, y_obs, y_unc, fmt='o')\n",
    "#     ax2.plot([0,100], \n",
    "#              b_true + m_true*np.array([0,100]),\n",
    "#              '--', color='DarkOrange', lw=2, zorder=-10)\n",
    "    for draw in np.random.choice(len(pos), 10, replace=False):\n",
    "        ax2.plot([0,100], pos[draw,1] + pos[draw,0]*np.array([0,100]),\n",
    "                 'DarkOrange', alpha=0.4)\n",
    "    ax2.set_xlabel('x')\n",
    "    ax2.set_ylabel('y')\n",
    "    \n",
    "    ax3.plot(pos[:,0])\n",
    "    ax3.set_ylabel('m')\n",
    "    \n",
    "    ax4.plot(pos[:,1])\n",
    "    ax4.set_ylabel('b')\n",
    "\n",
    "    ax5.plot(lnpost)\n",
    "    ax5.set_ylabel('$\\ln \\; \\pi$')\n",
    "\n",
    "    ax6.plot(acc)\n",
    "    ax6.set_ylabel('acceptance')\n",
    "    ax6.set_xlabel('step number')\n",
    "    plt.setp(ax3.get_xticklabels(), visible=False)\n",
    "    plt.setp(ax4.get_xticklabels(), visible=False)\n",
    "    plt.setp(ax5.get_xticklabels(), visible=False)\n",
    "    \n",
    "    fig.tight_layout()\n",
    "    fig.subplots_adjust(top=0.93, left=0.09, right=0.99, hspace=0.07, wspace=0.75)"
   ]
  },
  {
   "cell_type": "markdown",
   "metadata": {
    "slideshow": {
     "slide_type": "slide"
    }
   },
   "source": [
    "**Problem 4d**\n",
    "\n",
    "Create a summary plot using our \"default\" parameters of `theta_0 = (2.7, -70)`, `cov = (0.25, 5)`, and 500 steps."
   ]
  },
  {
   "cell_type": "code",
   "execution_count": null,
   "metadata": {
    "slideshow": {
     "slide_type": "subslide"
    }
   },
   "outputs": [],
   "source": [
    "plot_mh_summary( # complete"
   ]
  },
  {
   "cell_type": "markdown",
   "metadata": {
    "editable": true,
    "slideshow": {
     "slide_type": "slide"
    },
    "tags": []
   },
   "source": [
    "Without proof, I will state that we are looking for the following as we diagnose our MCMC:\n",
    "\n",
    "1. dense sampling of the high probability portion of the posterior\n",
    "2. draws from the posterior that are mostly consistent with the data\n",
    "3. trace plots for m and b that are roughly i.i.d. (and do not show significant structure)\n",
    "4. log posterior values that oscillate around the maximum with variations no larger than a few\n",
    "5. a stable acceptance ratio of ~0.5 (note for simple problems 0.5 is good, for complex posteriors 0.25 is more likely)"
   ]
  },
  {
   "cell_type": "markdown",
   "metadata": {
    "slideshow": {
     "slide_type": "slide"
    }
   },
   "source": [
    "**Problem 4e**\n",
    "\n",
    "Vary the MH MCMC parameters to \"better\" sample the posterior according to the criteria given above. \n",
    "\n",
    "*Hint* – this will likely take a lot of trial and error."
   ]
  },
  {
   "cell_type": "code",
   "execution_count": null,
   "metadata": {
    "slideshow": {
     "slide_type": "subslide"
    }
   },
   "outputs": [],
   "source": [
    "plot_mh_summary( # complete"
   ]
  },
  {
   "cell_type": "markdown",
   "metadata": {
    "slideshow": {
     "slide_type": "slide"
    }
   },
   "source": [
    "## Challenge Problem) Inference & Forecasting"
   ]
  },
  {
   "cell_type": "markdown",
   "metadata": {
    "slideshow": {
     "slide_type": "slide"
    }
   },
   "source": [
    "**Challenge 1a**\n",
    "\n",
    "Based on your solution to the previous problem, what do you estimate is the value of $m$ and $b$? \n",
    "\n",
    "What are the marginalized 90% credible regions for these paramters? How does this compare to the true answer?"
   ]
  },
  {
   "cell_type": "code",
   "execution_count": null,
   "metadata": {
    "slideshow": {
     "slide_type": "subslide"
    }
   },
   "outputs": [],
   "source": [
    "# complete\n",
    "\n",
    "print('m = {0[0]:.3f} with a 90% credible region from {0[1]:.3f} to {0[2]:.3f}'.format( # complete\n",
    "print('b = {0[0]:.3f} with a 90% credible region from {0[1]:.3f} to {0[2]:.3f}'.format( # complete"
   ]
  },
  {
   "cell_type": "markdown",
   "metadata": {
    "slideshow": {
     "slide_type": "slide"
    }
   },
   "source": [
    "**Challenge 1b**\n",
    "\n",
    "How does your answer compare to the maximum-likelihood method? Estimate the values of $m$ and $b$ using [`scipy.optimize`](https://docs.scipy.org/doc/scipy/reference/optimize.minimize-neldermead.html).\n",
    "\n",
    "*Hint* –– you'll want to minimize the *negative* log likelihood, in order to estimate the optimal parameters for the model."
   ]
  },
  {
   "cell_type": "code",
   "execution_count": null,
   "metadata": {
    "slideshow": {
     "slide_type": "subslide"
    }
   },
   "outputs": [],
   "source": [
    "# complete"
   ]
  },
  {
   "cell_type": "markdown",
   "metadata": {
    "slideshow": {
     "slide_type": "slide"
    }
   },
   "source": [
    "**Challenge 1c**\n",
    "\n",
    "Based on your solutions above, what do you estimate is the value of y at x = 50?\n",
    "\n",
    "What is the 90% credible region for this prediction?"
   ]
  },
  {
   "cell_type": "code",
   "execution_count": null,
   "metadata": {
    "slideshow": {
     "slide_type": "subslide"
    }
   },
   "outputs": [],
   "source": [
    "# complete"
   ]
  },
  {
   "cell_type": "markdown",
   "metadata": {
    "slideshow": {
     "slide_type": "slide"
    }
   },
   "source": [
    "## Challenge Problem 2) Gibbs Sampler"
   ]
  },
  {
   "cell_type": "markdown",
   "metadata": {
    "slideshow": {
     "slide_type": "slide"
    }
   },
   "source": [
    "The [Gibbs sampler](https://en.wikipedia.org/wiki/Gibbs_sampling) is a special case of the Metropolis-Hastings sampler.\n",
    "\n",
    "Alter the Metropolis-Hastings algorithm that you have created to act as a Gibbs sampler. "
   ]
  },
  {
   "cell_type": "code",
   "execution_count": null,
   "metadata": {},
   "outputs": [],
   "source": [
    "# complete"
   ]
  }
 ],
 "metadata": {
  "celltoolbar": "Slideshow",
  "kernelspec": {
   "display_name": "Python 3 (ipykernel)",
   "language": "python",
   "name": "python3"
  },
  "language_info": {
   "codemirror_mode": {
    "name": "ipython",
    "version": 3
   },
   "file_extension": ".py",
   "mimetype": "text/x-python",
   "name": "python",
   "nbconvert_exporter": "python",
   "pygments_lexer": "ipython3",
   "version": "3.8.20"
  }
 },
 "nbformat": 4,
 "nbformat_minor": 4
}
